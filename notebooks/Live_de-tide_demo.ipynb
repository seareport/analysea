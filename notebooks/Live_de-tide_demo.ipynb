{
 "cells": [
  {
   "cell_type": "markdown",
   "id": "a040d444",
   "metadata": {},
   "source": [
    "# Tide Analysis demonstration for Acapulco tide gauge (IOC)\n",
    "\n",
    "to make this notebook running, you need: the following packages: \n",
    "\n",
    "xarray, pandas, geopandas, ruptures, searvey, utide, cartopy, shapely, matplotlib\n",
    "\n",
    "See [README.md](https://github.com/tomsail/analysea) for more information\n",
    "### imports"
   ]
  },
  {
   "cell_type": "code",
   "execution_count": null,
   "id": "197ecd4d",
   "metadata": {},
   "outputs": [],
   "source": [
    "import json\n",
    "import matplotlib.pyplot as plt\n",
    "import utide\n",
    "from analysea.utils import average, nd_format, shift_for_maximum_correlation, json_format\n",
    "import pandas as pd\n",
    "import numpy as np\n",
    "\n",
    "%matplotlib widget"
   ]
  },
  {
   "cell_type": "code",
   "execution_count": null,
   "id": "28a0c8a9",
   "metadata": {},
   "outputs": [],
   "source": [
    "from searvey import ioc\n",
    "ioc_stations = ioc.get_ioc_stations()"
   ]
  },
  {
   "cell_type": "markdown",
   "id": "ecc045ca",
   "metadata": {},
   "source": [
    "## load test case : Acapulco (Mex)\n",
    "\n",
    "but you can also try with the other stations in the data folder !"
   ]
  },
  {
   "cell_type": "code",
   "execution_count": null,
   "id": "43767b62",
   "metadata": {},
   "outputs": [],
   "source": [
    "_ioc_station = \"acap2\" \n",
    "df = ioc.get_ioc_station_data(_ioc_station)\n",
    "df0 = ioc.get_ioc_station_data(_ioc_station)"
   ]
  },
  {
   "cell_type": "code",
   "execution_count": null,
   "id": "dd2070a0",
   "metadata": {},
   "outputs": [],
   "source": [
    "ioc_stations = ioc.get_ioc_stations()\n",
    "acapulco = ioc_stations.iloc[5]"
   ]
  },
  {
   "cell_type": "code",
   "execution_count": null,
   "id": "dcee9075",
   "metadata": {},
   "outputs": [],
   "source": [
    "df0.index = df0['time']\n",
    "df0 = df0.drop('time', axis=1)"
   ]
  },
  {
   "cell_type": "markdown",
   "id": "fed9f02f",
   "metadata": {},
   "source": [
    "# Medthod 1: Load JSON file containing de-tide information (not working great)"
   ]
  },
  {
   "cell_type": "code",
   "execution_count": null,
   "id": "7c3ff2d5",
   "metadata": {},
   "outputs": [],
   "source": [
    "acap_jsonf = '../tests/data/processed/acap2.json'\n",
    "with open(acap_jsonf, 'r') as f:\n",
    "    acap_json = json.load(f)"
   ]
  },
  {
   "cell_type": "code",
   "execution_count": null,
   "id": "f9e47ee6",
   "metadata": {},
   "outputs": [],
   "source": [
    "h=utide.reconstruct(df['time'],nd_format(acap_json))"
   ]
  },
  {
   "cell_type": "code",
   "execution_count": null,
   "id": "744b3030",
   "metadata": {},
   "outputs": [],
   "source": [
    "df0['retide'] = h.h"
   ]
  },
  {
   "cell_type": "markdown",
   "id": "7af9dacc",
   "metadata": {},
   "source": [
    "### adjust the eventual time and vertical offsets"
   ]
  },
  {
   "cell_type": "code",
   "execution_count": null,
   "id": "32744fe5",
   "metadata": {},
   "outputs": [],
   "source": [
    "df0.rad = average(df0.rad)"
   ]
  },
  {
   "cell_type": "code",
   "execution_count": null,
   "id": "1b9afc5e",
   "metadata": {},
   "outputs": [],
   "source": [
    "shifted_x, shifted_y, time = shift_for_maximum_correlation(df0.rad.values,df0.retide.values,df0.index)\n",
    "df1 = pd.DataFrame({'retide': shifted_y, 'raw': shifted_x,'surge': shifted_x - shifted_y},index=time)"
   ]
  },
  {
   "cell_type": "code",
   "execution_count": null,
   "id": "68b0f471",
   "metadata": {},
   "outputs": [],
   "source": [
    "fig, ax = plt.subplots()\n",
    "df1.plot(ax=ax)"
   ]
  },
  {
   "cell_type": "markdown",
   "id": "fdfef199",
   "metadata": {},
   "source": [
    "## method 2: live detide and reconstruct"
   ]
  },
  {
   "cell_type": "code",
   "execution_count": null,
   "id": "e3d8befc",
   "metadata": {},
   "outputs": [],
   "source": [
    "opts = {'conf_int': 'linear',\n",
    "        'constit' : 'auto',\n",
    "        'method' : 'ols', # ols is faster and good for missing data (Ponchaut et al., 2001)\n",
    "        'order_constit' : 'frequency',\n",
    "        'Rayleigh_min' : 0.97,\n",
    "        'lat': acapulco.lat,\n",
    "        'verbose' : True,\n",
    "} # careful if there is only one Nan parameter, the analysis crashes"
   ]
  },
  {
   "cell_type": "code",
   "execution_count": null,
   "id": "4fedd96f",
   "metadata": {},
   "outputs": [],
   "source": [
    "from analysea.tide import tide_analysis"
   ]
  },
  {
   "cell_type": "code",
   "execution_count": null,
   "id": "c0ff631a",
   "metadata": {},
   "outputs": [],
   "source": [
    "df0 = ioc.get_ioc_station_data(_ioc_station)\n",
    "df0.index = df0['time']\n",
    "df0 = df0.drop('time', axis=1)"
   ]
  },
  {
   "cell_type": "code",
   "execution_count": null,
   "id": "c71fb9a6",
   "metadata": {},
   "outputs": [],
   "source": [
    "df0['tide'],df0['surge'],coef = tide_analysis(df0.rad,opts)"
   ]
  },
  {
   "cell_type": "code",
   "execution_count": null,
   "id": "f4a9455b",
   "metadata": {},
   "outputs": [],
   "source": [
    "df0.rad = average(df0.rad)"
   ]
  },
  {
   "cell_type": "code",
   "execution_count": null,
   "id": "e13aa985",
   "metadata": {},
   "outputs": [],
   "source": [
    "h=utide.reconstruct(df['time'],coef)\n",
    "df0['tide'] = h"
   ]
  },
  {
   "cell_type": "code",
   "execution_count": null,
   "id": "fa822d39",
   "metadata": {},
   "outputs": [],
   "source": [
    "fig, ax = plt.subplots(figsize=(10, 10))\n",
    "df0.plot(ax=ax)"
   ]
  },
  {
   "cell_type": "markdown",
   "id": "f1ac68cd",
   "metadata": {},
   "source": [
    "# compare the 2 methods"
   ]
  },
  {
   "cell_type": "code",
   "execution_count": null,
   "id": "da1c702e",
   "metadata": {},
   "outputs": [],
   "source": [
    "# main constituents \n",
    "ASTRO_PLOT = [ \"M2\", \"S2\", \"N2\", \"O1\", \"K2\", \"K1\", \"NU2\", \"Q1\", \"L2\", \n",
    "              \"P1\", \"2N2\", \"M4\", \"MS4\", \"MM\", \"MU2\", \"SSA\", \"LDA2\", \"MF\", \"MSM\", \"MN4\"]"
   ]
  },
  {
   "cell_type": "code",
   "execution_count": null,
   "id": "2204f15b",
   "metadata": {},
   "outputs": [],
   "source": [
    "coef = json_format(coef)\n",
    "coef['name']"
   ]
  },
  {
   "cell_type": "code",
   "execution_count": null,
   "id": "eefbdd58",
   "metadata": {},
   "outputs": [],
   "source": [
    "index = []\n",
    "for ast in ASTRO_PLOT : \n",
    "    try :\n",
    "        index.extend([coef['name'].index(ast)])\n",
    "    except ValueError as err: \n",
    "        index.append(float('nan'))\n",
    "        print('[WARN]',err)\n",
    "index"
   ]
  },
  {
   "cell_type": "code",
   "execution_count": null,
   "id": "5375d144",
   "metadata": {},
   "outputs": [],
   "source": [
    "index2 = []\n",
    "acap_json = json_format(acap_json)\n",
    "for ast in ASTRO_PLOT : \n",
    "    try :\n",
    "        index2.extend([acap_json['name'].index(ast)])\n",
    "    except ValueError as err: \n",
    "        index2.append(float('nan'))\n",
    "        print('[WARN]',err)\n",
    "index2"
   ]
  },
  {
   "cell_type": "code",
   "execution_count": null,
   "id": "2747f819",
   "metadata": {},
   "outputs": [],
   "source": [
    "amps_coef = np.zeros(len(ASTRO_PLOT))\n",
    "for i in range(len(ASTRO_PLOT)):\n",
    "    if ~np.isnan(index[i]):\n",
    "        amps_coef[i] = coef['A'][i]\n",
    "    else: \n",
    "        amps_coef[i]= np.nan\n",
    "# \n",
    "amps_json = np.zeros(len(ASTRO_PLOT))\n",
    "for i in range(len(ASTRO_PLOT)):\n",
    "    if ~np.isnan(index2[i]):\n",
    "        amps_json[i] = acap_json['A'][i]\n",
    "    else: \n",
    "        amps_json[i]= np.nan"
   ]
  },
  {
   "cell_type": "code",
   "execution_count": null,
   "id": "84c2d089",
   "metadata": {},
   "outputs": [],
   "source": [
    "fig, ax = plt.subplots(figsize=(10, 10))\n",
    "x = np.arange(0, len(ASTRO_PLOT))\n",
    "ax.bar(x - 0.2 , amps_coef, width= 0.4, label='live de-tide')\n",
    "ax.bar(x + 0.2 , amps_json, width= 0.4, label='from JSON')\n",
    "ax.set_xticks(x, ASTRO_PLOT)\n",
    "ax.legend()\n"
   ]
  }
 ],
 "metadata": {
  "kernelspec": {
   "display_name": "Python 3 (ipykernel)",
   "language": "python",
   "name": "python3"
  },
  "language_info": {
   "codemirror_mode": {
    "name": "ipython",
    "version": 3
   },
   "file_extension": ".py",
   "mimetype": "text/x-python",
   "name": "python",
   "nbconvert_exporter": "python",
   "pygments_lexer": "ipython3",
   "version": "3.10.12"
  }
 },
 "nbformat": 4,
 "nbformat_minor": 5
}
